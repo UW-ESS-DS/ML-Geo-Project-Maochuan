{
 "cells": [
  {
   "cell_type": "markdown",
   "id": "7c322d6c-6265-4d06-b4b1-fa363b572c3b",
   "metadata": {},
   "source": [
    "# Create a model architecture based on the Ross et al., 2018\n",
    "\n",
    "<div>\n",
    "<img src=\"model_architecture.png\" width=\"500\"/>\n",
    "</div>\n"
   ]
  },
  {
   "cell_type": "code",
   "execution_count": 67,
   "id": "ce8672c4-5a22-40d3-a18f-1f16bd2a731d",
   "metadata": {},
   "outputs": [],
   "source": [
    "import torch\n",
    "import torch.nn as nn\n",
    "from torch.nn import Module"
   ]
  },
  {
   "cell_type": "code",
   "execution_count": 68,
   "id": "a61f8034-fd1b-47bc-bbe9-babf28dba573",
   "metadata": {},
   "outputs": [],
   "source": [
    "class PolarityPicker(Module):\n",
    "    def __init__(self):\n",
    "        super().__init__()\n",
    "        self.cv1 = nn.Conv1d(in_channels = 1, out_channels=32, kernel_size=21)\n",
    "        self.cv2 = nn.Conv1d(in_channels = 32, out_channels=64, kernel_size=15)\n",
    "        self.cv3 = nn.Conv1d(in_channels = 64, out_channels=128, kernel_size=11)\n",
    "        self.bn1 = nn.BatchNorm1d(32)\n",
    "        self.bn2 = nn.BatchNorm1d(64)\n",
    "        self.bn3 = nn.BatchNorm1d(128)\n",
    "        self.bn4 = nn.BatchNorm1d(128)\n",
    "        self.bn5 = nn.BatchNorm1d(128)\n",
    "        self.pooling = nn.MaxPool1d(kernel_size = 2)\n",
    "        self.fc1 = nn.Linear(in_features = 114, out_features = 512)\n",
    "        self.fc2 = nn.Linear(in_features = 512, out_features = 512)\n",
    "        self.fc3 = nn.Linear(in_features = 65536, out_features = 3)\n",
    "        self.ft = nn.Flatten()\n",
    "    \n",
    "    def forward(self, data):\n",
    "        x = self.cv1(data)\n",
    "        x = self.bn1(x)\n",
    "        x = self.pooling(x)\n",
    "        x = self.cv2(x)\n",
    "        x = self.bn2(x)\n",
    "        x = self.pooling(x)\n",
    "        x = self.cv3(x)\n",
    "        x = self.bn3(x)\n",
    "        x = self.pooling(x)\n",
    "        x = self.fc1(x)\n",
    "        x = self.bn4(x)\n",
    "        x = self.fc2(x)\n",
    "        x = self.bn5(x)\n",
    "        x = self.ft(x)\n",
    "        x = self.fc3(x)\n",
    "        return x  "
   ]
  },
  {
   "cell_type": "code",
   "execution_count": 69,
   "id": "e8ae49ca-b353-43b4-9db3-aa69820ccdbd",
   "metadata": {},
   "outputs": [],
   "source": [
    "model = PolarityPicker()"
   ]
  },
  {
   "cell_type": "code",
   "execution_count": 70,
   "id": "748dec58-2f42-4434-8be3-63540906fb92",
   "metadata": {},
   "outputs": [
    {
     "data": {
      "text/plain": [
       "tensor([[ 0.4108, -0.1912, -0.2480]], grad_fn=<AddmmBackward0>)"
      ]
     },
     "execution_count": 70,
     "metadata": {},
     "output_type": "execute_result"
    }
   ],
   "source": [
    "polaritypicker(torch.rand([1,1,1000]))"
   ]
  },
  {
   "cell_type": "markdown",
   "id": "468dd6de-8f1a-4406-8820-d1f611f97bcd",
   "metadata": {},
   "source": [
    "# Import the data"
   ]
  },
  {
   "cell_type": "code",
   "execution_count": 10,
   "id": "e26c1940-35a6-481f-b56a-6e58ff172909",
   "metadata": {},
   "outputs": [],
   "source": [
    "import h5py    \n",
    "import numpy as np    \n",
    "#f1 = h5py.File('https://drive.google.com/file/d/1cuB4YukRvZBM3Ehv18WajsM3Xd_jppSs/view?usp=share_link','r+')  "
   ]
  },
  {
   "cell_type": "code",
   "execution_count": null,
   "id": "bf6a6e97-0de7-4ec4-a63a-4241344fcc2d",
   "metadata": {},
   "outputs": [],
   "source": []
  }
 ],
 "metadata": {
  "kernelspec": {
   "display_name": "Python 3 (ipykernel)",
   "language": "python",
   "name": "python3"
  },
  "language_info": {
   "codemirror_mode": {
    "name": "ipython",
    "version": 3
   },
   "file_extension": ".py",
   "mimetype": "text/x-python",
   "name": "python",
   "nbconvert_exporter": "python",
   "pygments_lexer": "ipython3",
   "version": "3.8.14"
  }
 },
 "nbformat": 4,
 "nbformat_minor": 5
}
